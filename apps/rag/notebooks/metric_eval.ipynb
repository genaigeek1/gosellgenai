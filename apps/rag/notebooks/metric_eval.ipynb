{
 "cells": [
  {
   "cell_type": "markdown",
   "metadata": {},
   "source": ["# Metric Evaluation for RAG Responses"]
  },
  {
   "cell_type": "code",
   "execution_count": null,
   "metadata": {},
   "outputs": [],
   "source": [
    "from datasets import load_dataset
",
    "import evaluate

",
    "rouge = evaluate.load("rouge")
",
    "sample = load_dataset("databricks/databricks-dolly-15k", split="train[:5]")
",
    "preds = [ex["response"] for ex in sample]
",
    "refs = [ex["response"] for ex in sample]
",
    "print(rouge.compute(predictions=preds, references=refs))"
   ]
  }
 ],
 "metadata": {},
 "nbformat": 4,
 "nbformat_minor": 2
}
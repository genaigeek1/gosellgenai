{
 "cells": [
  {
   "cell_type": "markdown",
   "metadata": {},
   "source": ["# Embedding Visualization with UMAP"]
  },
  {
   "cell_type": "code",
   "execution_count": null,
   "metadata": {},
   "outputs": [],
   "source": [
    "from sklearn.manifold import TSNE
",
    "import umap
",
    "import matplotlib.pyplot as plt
",
    "import numpy as np

",
    "# Suppose you have embedded docs already
",
    "# embeddings = np.array([...])
",
    "# labels = ["doc1", "doc2", ...]

",
    "# reducer = TSNE(n_components=2)
",
    "# reducer = umap.UMAP()
",
    "# reduced = reducer.fit_transform(embeddings)
",
    "# plt.scatter(reduced[:,0], reduced[:,1])
",
    "# plt.title("Embedding Space")"
   ]
  }
 ],
 "metadata": {},
 "nbformat": 4,
 "nbformat_minor": 2
}